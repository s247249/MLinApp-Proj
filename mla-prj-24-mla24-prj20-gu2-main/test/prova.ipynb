{
 "cells": [
  {
   "cell_type": "code",
   "execution_count": null,
   "metadata": {},
   "outputs": [],
   "source": [
    "settings = {\n",
    "    ### Encoding layer ### ->for input x\n",
    "    \"enc_pop\": 1,\n",
    "    \"beta_enc\": 0.9,   # REMEMBER: the range of values is [0, 1]\n",
    "    \"thr_enc\": 1,\n",
    "\n",
    "    ### slstm cell ###\n",
    "    # Population encoding size for each gate\n",
    "    \"enc_pop_input\": 1,\n",
    "    \"enc_pop_gate\": 1,\n",
    "    \"enc_pop_forget\": 1,\n",
    "    \"enc_pop_output\": 1,\n",
    "\n",
    "    # beta and threshold for neurons pop\n",
    "    \"beta_forget\": 0.9,\n",
    "    \"thr_forget\": 1,\n",
    "    \"beta_input\": 0.9,\n",
    "    \"thr_input\": 1,\n",
    "    \"beta_gate\": 0.9,\n",
    "    \"thr_gate\": 1,\n",
    "    \"beta_output\": 0.9,\n",
    "    \"thr_output\": 1,\n",
    "    \"beta_hidden\": 0.9,\n",
    "    \"thr_hidden\": 1,\n",
    "\n",
    "    ### Output layer #####\n",
    "    \"beta_out\": 0.9 ,   # REMEMBER: the range of values is [0, 1]\n",
    "    \"thr_out\": 1,\n",
    "    ######################\n",
    "    \"nb_epochs\": 50,\n",
    "    \"lr\": 5e-3,\n",
    "    \"batch_size\": 128,\n",
    "}"
   ]
  },
  {
   "cell_type": "code",
   "execution_count": 22,
   "metadata": {},
   "outputs": [
    {
     "data": {
      "text/plain": [
       "torch.Size([128, 32])"
      ]
     },
     "execution_count": 22,
     "metadata": {},
     "output_type": "execute_result"
    }
   ],
   "source": [
    "import torch\n",
    "\n",
    "batch_size = 128\n",
    "enc_pop = 32\n",
    "hidden_size = 16\n",
    "\n",
    "# Crea un tensore con valori casuali\n",
    "tensor = torch.randn(batch_size, enc_pop)\n",
    "tensor.size()"
   ]
  },
  {
   "cell_type": "code",
   "execution_count": 12,
   "metadata": {},
   "outputs": [
    {
     "data": {
      "text/plain": [
       "torch.Size([32])"
      ]
     },
     "execution_count": 12,
     "metadata": {},
     "output_type": "execute_result"
    }
   ],
   "source": [
    "torch.mean(tensor, dim=0).size()"
   ]
  },
  {
   "cell_type": "code",
   "execution_count": 18,
   "metadata": {},
   "outputs": [
    {
     "data": {
      "text/plain": [
       "torch.Size([128, 1])"
      ]
     },
     "execution_count": 18,
     "metadata": {},
     "output_type": "execute_result"
    }
   ],
   "source": [
    "torch.mean(tensor, dim=1).unsqueeze(dim=1).size()"
   ]
  },
  {
   "cell_type": "code",
   "execution_count": 20,
   "metadata": {},
   "outputs": [],
   "source": [
    "output = torch.mean(tensor, dim=1).unsqueeze(dim=1)"
   ]
  },
  {
   "cell_type": "code",
   "execution_count": 29,
   "metadata": {},
   "outputs": [
    {
     "data": {
      "text/plain": [
       "torch.Size([128, 1])"
      ]
     },
     "execution_count": 29,
     "metadata": {},
     "output_type": "execute_result"
    }
   ],
   "source": [
    "candidate = torch.tanh(output)\n",
    "candidate.size()"
   ]
  },
  {
   "cell_type": "code",
   "execution_count": 24,
   "metadata": {},
   "outputs": [
    {
     "data": {
      "text/plain": [
       "torch.Size([128, 1])"
      ]
     },
     "execution_count": 24,
     "metadata": {},
     "output_type": "execute_result"
    }
   ],
   "source": [
    "percentages = torch.sigmoid(output)\n",
    "percentages.size()"
   ]
  },
  {
   "cell_type": "code",
   "execution_count": 26,
   "metadata": {},
   "outputs": [
    {
     "data": {
      "text/plain": [
       "torch.Size([128, 16])"
      ]
     },
     "execution_count": 26,
     "metadata": {},
     "output_type": "execute_result"
    }
   ],
   "source": [
    "syn = torch.ones(batch_size, hidden_size)\n",
    "syn.size()"
   ]
  },
  {
   "cell_type": "code",
   "execution_count": 27,
   "metadata": {},
   "outputs": [
    {
     "data": {
      "text/plain": [
       "torch.Size([128, 16])"
      ]
     },
     "execution_count": 27,
     "metadata": {},
     "output_type": "execute_result"
    }
   ],
   "source": [
    "new_syn = syn*percentages\n",
    "new_syn.size()"
   ]
  },
  {
   "cell_type": "code",
   "execution_count": 28,
   "metadata": {},
   "outputs": [
    {
     "data": {
      "text/plain": [
       "tensor([0.4734, 0.4734, 0.4734, 0.4734, 0.4734, 0.4734, 0.4734, 0.4734, 0.4734,\n",
       "        0.4734, 0.4734, 0.4734, 0.4734, 0.4734, 0.4734, 0.4734])"
      ]
     },
     "execution_count": 28,
     "metadata": {},
     "output_type": "execute_result"
    }
   ],
   "source": [
    "new_syn[0]"
   ]
  },
  {
   "cell_type": "code",
   "execution_count": 30,
   "metadata": {},
   "outputs": [
    {
     "data": {
      "text/plain": [
       "torch.Size([128, 1])"
      ]
     },
     "execution_count": 30,
     "metadata": {},
     "output_type": "execute_result"
    }
   ],
   "source": [
    "new_cur = percentages*candidate\n",
    "new_cur.size()"
   ]
  },
  {
   "cell_type": "code",
   "execution_count": 33,
   "metadata": {},
   "outputs": [
    {
     "data": {
      "text/plain": [
       "tensor([0.4233, 0.4233, 0.4233, 0.4233, 0.4233, 0.4233, 0.4233, 0.4233, 0.4233,\n",
       "        0.4233, 0.4233, 0.4233, 0.4233, 0.4233, 0.4233, 0.4233])"
      ]
     },
     "execution_count": 33,
     "metadata": {},
     "output_type": "execute_result"
    }
   ],
   "source": [
    "new_syn[0]+new_cur[0]\n",
    "new_syn+new_cur"
   ]
  },
  {
   "cell_type": "code",
   "execution_count": 32,
   "metadata": {},
   "outputs": [
    {
     "data": {
      "text/plain": [
       "tensor([[0.4233, 0.4233, 0.4233,  ..., 0.4233, 0.4233, 0.4233],\n",
       "        [0.5862, 0.5862, 0.5862,  ..., 0.5862, 0.5862, 0.5862],\n",
       "        [0.5411, 0.5411, 0.5411,  ..., 0.5411, 0.5411, 0.5411],\n",
       "        ...,\n",
       "        [0.6552, 0.6552, 0.6552,  ..., 0.6552, 0.6552, 0.6552],\n",
       "        [0.5488, 0.5488, 0.5488,  ..., 0.5488, 0.5488, 0.5488],\n",
       "        [0.6900, 0.6900, 0.6900,  ..., 0.6900, 0.6900, 0.6900]])"
      ]
     },
     "execution_count": 32,
     "metadata": {},
     "output_type": "execute_result"
    }
   ],
   "source": [
    "new_syn+new_cur"
   ]
  }
 ],
 "metadata": {
  "kernelspec": {
   "display_name": "MLinApplication",
   "language": "python",
   "name": "python3"
  },
  "language_info": {
   "codemirror_mode": {
    "name": "ipython",
    "version": 3
   },
   "file_extension": ".py",
   "mimetype": "text/x-python",
   "name": "python",
   "nbconvert_exporter": "python",
   "pygments_lexer": "ipython3",
   "version": "3.12.4"
  }
 },
 "nbformat": 4,
 "nbformat_minor": 2
}
